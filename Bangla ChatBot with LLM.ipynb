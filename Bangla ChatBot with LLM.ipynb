{
 "cells": [
  {
   "cell_type": "code",
   "execution_count": 1,
   "id": "31b57548-0e0a-45b6-9a71-3ce04f754fd1",
   "metadata": {},
   "outputs": [],
   "source": [
    "import pandas as pd"
   ]
  },
  {
   "cell_type": "code",
   "execution_count": 2,
   "id": "2500dc6a-9644-4401-959d-87a1ff031619",
   "metadata": {},
   "outputs": [],
   "source": [
    "data = {\n",
    "    \"question\": [\n",
    "        # Account-related questions\n",
    "        \"আমার নাম্বার বন্ধ হয়ে গেছে, আমি কিভাবে পুনরুদ্ধার করব?\",\n",
    "        \"আমার সিম রেজিস্ট্রেশন চেক কিভাবে করব?\",\n",
    "        \"কিভাবে আমি আমার নাম্বারের কল হিস্ট্রি পাব?\",\n",
    "        \"সিম পরিবর্তন করার নিয়ম কি?\",\n",
    "        \"কিভাবে নতুন সিম নিবন্ধন করব?\",\n",
    "        \n",
    "        # Internet-related questions\n",
    "        \"ইন্টারনেট ডেটা কেন দ্রুত শেষ হয়ে যাচ্ছে?\",\n",
    "        \"আমি কিভাবে সাশ্রয়ী ইন্টারনেট প্যাকেজ পাব?\",\n",
    "        \"কোন ইন্টারনেট অফার সবচেয়ে ভালো?\",\n",
    "        \"ইন্টারনেট ব্যবহার সীমাবদ্ধ করতে কী করব?\",\n",
    "        \"মোবাইলে হটস্পট চালু করতে সমস্যা হচ্ছে, সমাধান কী?\",\n",
    "        \n",
    "        # Billing-related questions\n",
    "        \"আমার মাসিক বিল কত?\",\n",
    "        \"বিল পেমেন্টের শেষ তারিখ কিভাবে জানব?\",\n",
    "        \"বিলের কপি কিভাবে পাব?\",\n",
    "        \"বিলের মধ্যে কোনো অতিরিক্ত চার্জ আছে কিনা কিভাবে জানব?\",\n",
    "        \"আমি কি আংশিক বিল পেমেন্ট করতে পারি?\",\n",
    "        \n",
    "        # Promotions and offers\n",
    "        \"বর্তমান প্রমোশনাল অফার কী কী?\",\n",
    "        \"আমি কিভাবে প্রমোশনাল মেসেজ বন্ধ করব?\",\n",
    "        \"কাস্টমার লয়ালটি প্রোগ্রামে কী সুবিধা আছে?\",\n",
    "        \"নতুন গ্রাহকদের জন্য কোনো বিশেষ অফার আছে?\",\n",
    "        \"রাতের অফার সম্পর্কে বিস্তারিত দিন।\",\n",
    "        \n",
    "        # Emergency services\n",
    "        \"ইমার্জেন্সি ব্যালেন্স কীভাবে পাব?\",\n",
    "        \"কোনো ইমার্জেন্সি ইন্টারনেট প্যাক আছে?\",\n",
    "        \"কাস্টমার কেয়ারে দ্রুত যোগাযোগের উপায় কী?\",\n",
    "        \"জরুরি ভিত্তিতে নাম্বার ব্লক কিভাবে করব?\",\n",
    "        \"কিভাবে ইমার্জেন্সি কল চালু করব?\",\n",
    "        \n",
    "        # Miscellaneous questions\n",
    "        \"আমার মোবাইল হারিয়ে গেলে করণীয় কী?\",\n",
    "        \"নাম্বার পোর্ট করতে কত সময় লাগে?\",\n",
    "        \"আমি কিভাবে ৪জি বা ৫জি চালু করব?\",\n",
    "        \"কাস্টমার কেয়ার সেন্টারের ঠিকানা কোথায়?\",\n",
    "        \"আমার নাম্বারে কোনো স্প্যাম কল আসছে, কী করব?\"\n",
    "    ],\n",
    "    \"answer\": [\n",
    "        # Account-related answers\n",
    "        \"আপনার নাম্বার পুনরুদ্ধারের জন্য নিকটস্থ কাস্টমার কেয়ারে যান এবং জাতীয় পরিচয়পত্র দেখান।\",\n",
    "        \"সিম রেজিস্ট্রেশন চেক করতে *1600# ডায়াল করুন।\",\n",
    "        \"আপনার কল হিস্ট্রি পেতে আমাদের অ্যাপ ব্যবহার করুন অথবা কাস্টমার কেয়ারে যোগাযোগ করুন।\",\n",
    "        \"সিম পরিবর্তন করতে নিকটস্থ সেবাকেন্দ্রে যান এবং জাতীয় পরিচয়পত্র দেখান।\",\n",
    "        \"নতুন সিম নিবন্ধন করতে আপনার জাতীয় পরিচয়পত্র এবং ছবি সহ নিকটস্থ সেবাকেন্দ্রে যান।\",\n",
    "        \n",
    "        # Internet-related answers\n",
    "        \"আপনার ডেটা দ্রুত শেষ হলে ভিডিও স্ট্রিমিং এবং বড় ফাইল ডাউনলোড সীমাবদ্ধ করুন।\",\n",
    "        \"সাশ্রয়ী ইন্টারনেট প্যাকেজ পেতে আমাদের অ্যাপ চেক করুন বা *121# ডায়াল করুন।\",\n",
    "        \"আপনার জন্য সবচেয়ে ভালো ইন্টারনেট অফার জানতে *121# ডায়াল করুন।\",\n",
    "        \"ইন্টারনেট সীমাবদ্ধ করতে আমাদের অ্যাপ থেকে ডেটা লিমিট সেট করুন।\",\n",
    "        \"হটস্পট চালু করতে মোবাইল সেটিংস চেক করুন এবং ডিভাইস রিস্টার্ট করুন।\",\n",
    "        \n",
    "        # Billing-related answers\n",
    "        \"আপনার মাসিক বিল জানতে *121*3# ডায়াল করুন।\",\n",
    "        \"বিল পেমেন্টের শেষ তারিখ জানার জন্য আপনার বিল নোটিফিকেশন চেক করুন।\",\n",
    "        \"বিলের কপি পেতে কাস্টমার কেয়ারে যোগাযোগ করুন অথবা ইমেল অ্যাড্রেসে অনুরোধ পাঠান।\",\n",
    "        \"বিলের অতিরিক্ত চার্জ জানতে আমাদের অ্যাপ চেক করুন।\",\n",
    "        \"হ্যাঁ, আপনি আংশিক বিল পেমেন্ট করতে পারেন। বিস্তারিত জানতে কাস্টমার কেয়ারে যোগাযোগ করুন।\",\n",
    "        \n",
    "        # Promotions and offers\n",
    "        \"বর্তমান প্রমোশনাল অফার জানতে *121*5# ডায়াল করুন।\",\n",
    "        \"প্রমোশনাল মেসেজ বন্ধ করতে STOP লিখে 12345 নম্বরে পাঠান।\",\n",
    "        \"লয়ালটি প্রোগ্রামে পয়েন্টের মাধ্যমে বিশেষ অফার পাওয়া যায়।\",\n",
    "        \"নতুন গ্রাহকদের জন্য আকর্ষণীয় প্যাকেজ রয়েছে। বিস্তারিত জানতে *121# ডায়াল করুন।\",\n",
    "        \"রাতের অফার সম্পর্কে জানতে আমাদের অ্যাপ চেক করুন।\",\n",
    "        \n",
    "        # Emergency services\n",
    "        \"ইমার্জেন্সি ব্যালেন্স পেতে *121*4# ডায়াল করুন।\",\n",
    "        \"ইমার্জেন্সি ইন্টারনেট প্যাক পেতে *121# ডায়াল করুন।\",\n",
    "        \"কাস্টমার কেয়ারে দ্রুত যোগাযোগ করতে 121 নম্বরে কল করুন।\",\n",
    "        \"নাম্বার ব্লক করতে আমাদের কাস্টমার কেয়ারে যোগাযোগ করুন।\",\n",
    "        \"ইমার্জেন্সি কল চালু করতে আপনার ব্যালেন্স চেক করুন এবং যথাযথ সেটিংস আপডেট করুন।\",\n",
    "        \n",
    "        # Miscellaneous answers\n",
    "        \"মোবাইল হারালে নিকটস্থ থানায় রিপোর্ট করুন এবং কাস্টমার কেয়ারে যোগাযোগ করুন।\",\n",
    "        \"নাম্বার পোর্ট করতে সাধারণত ৩-৫ দিন সময় লাগে।\",\n",
    "        \"৪জি বা ৫জি চালু করতে মোবাইল সেটিংস আপডেট করুন এবং আমাদের অ্যাপ ব্যবহার করুন।\",\n",
    "        \"কাস্টমার কেয়ার সেন্টারের ঠিকানা জানতে আমাদের ওয়েবসাইট চেক করুন।\",\n",
    "        \"স্প্যাম কল ব্লক করতে DND পরিষেবা চালু করুন। STOP লিখে 12345 নম্বরে পাঠান।\"\n",
    "    ]\n",
    "}\n",
    "\n",
    "df = pd.DataFrame(data)\n",
    "df.to_csv(\"bengali_telecom_large_faq.csv\", index=False)\n"
   ]
  },
  {
   "cell_type": "code",
   "execution_count": 3,
   "id": "8a4d2bc8-662b-41e7-93fd-9949eb3b9687",
   "metadata": {},
   "outputs": [],
   "source": [
    "import json\n",
    "import pandas as pd\n",
    "\n",
    "with open('BanglaDatSet.json', 'r', encoding='utf-8') as file:\n",
    "    data = json.load(file)\n",
    "\n",
    "questions = []\n",
    "answers = []\n",
    "\n",
    "for intent in data['intents']:\n",
    "    for pattern in intent['patterns']:\n",
    "        for response in intent['responses']:\n",
    "            questions.append(pattern)\n",
    "            answers.append(response)\n",
    "\n",
    "\n",
    "df1 = pd.DataFrame({'question': questions, 'answer': answers})\n",
    "\n",
    "df1.to_csv('Bangla_Chatbot_Data1.csv', index=False, encoding='utf-8')\n"
   ]
  },
  {
   "cell_type": "code",
   "execution_count": 4,
   "id": "17da94ea-739b-4dea-8fee-f2f277118f89",
   "metadata": {},
   "outputs": [],
   "source": [
    "merged_data = pd.concat([df, df1], ignore_index=True)\n",
    "\n",
    "# Save the merged dataset\n",
    "merged_data.to_csv('Merged_Bangla_Chatbot_Data.csv', index=False, encoding='utf-8')\n"
   ]
  },
  {
   "cell_type": "code",
   "execution_count": 5,
   "id": "4a7a9c06-a186-4170-ab51-a93651dfae97",
   "metadata": {},
   "outputs": [
    {
     "data": {
      "text/html": [
       "<div>\n",
       "<style scoped>\n",
       "    .dataframe tbody tr th:only-of-type {\n",
       "        vertical-align: middle;\n",
       "    }\n",
       "\n",
       "    .dataframe tbody tr th {\n",
       "        vertical-align: top;\n",
       "    }\n",
       "\n",
       "    .dataframe thead th {\n",
       "        text-align: right;\n",
       "    }\n",
       "</style>\n",
       "<table border=\"1\" class=\"dataframe\">\n",
       "  <thead>\n",
       "    <tr style=\"text-align: right;\">\n",
       "      <th></th>\n",
       "      <th>question</th>\n",
       "      <th>answer</th>\n",
       "    </tr>\n",
       "  </thead>\n",
       "  <tbody>\n",
       "    <tr>\n",
       "      <th>0</th>\n",
       "      <td>আমার নাম্বার বন্ধ হয়ে গেছে, আমি কিভাবে পুনরুদ...</td>\n",
       "      <td>আপনার নাম্বার পুনরুদ্ধারের জন্য নিকটস্থ কাস্টম...</td>\n",
       "    </tr>\n",
       "    <tr>\n",
       "      <th>1</th>\n",
       "      <td>আমার সিম রেজিস্ট্রেশন চেক কিভাবে করব?</td>\n",
       "      <td>সিম রেজিস্ট্রেশন চেক করতে *1600# ডায়াল করুন।</td>\n",
       "    </tr>\n",
       "    <tr>\n",
       "      <th>2</th>\n",
       "      <td>কিভাবে আমি আমার নাম্বারের কল হিস্ট্রি পাব?</td>\n",
       "      <td>আপনার কল হিস্ট্রি পেতে আমাদের অ্যাপ ব্যবহার কর...</td>\n",
       "    </tr>\n",
       "    <tr>\n",
       "      <th>3</th>\n",
       "      <td>সিম পরিবর্তন করার নিয়ম কি?</td>\n",
       "      <td>সিম পরিবর্তন করতে নিকটস্থ সেবাকেন্দ্রে যান এবং...</td>\n",
       "    </tr>\n",
       "    <tr>\n",
       "      <th>4</th>\n",
       "      <td>কিভাবে নতুন সিম নিবন্ধন করব?</td>\n",
       "      <td>নতুন সিম নিবন্ধন করতে আপনার জাতীয় পরিচয়পত্র ...</td>\n",
       "    </tr>\n",
       "    <tr>\n",
       "      <th>...</th>\n",
       "      <td>...</td>\n",
       "      <td>...</td>\n",
       "    </tr>\n",
       "    <tr>\n",
       "      <th>30034</th>\n",
       "      <td>কিভাবে ফার্মওয়্যার আপডেট করবো?</td>\n",
       "      <td>আমাদের সার্ভিস সেন্টারে যোগাযোগ করুন।</td>\n",
       "    </tr>\n",
       "    <tr>\n",
       "      <th>30035</th>\n",
       "      <td>কিভাবে ফার্মওয়্যার আপডেট করবো?</td>\n",
       "      <td>ডিভাইসের জন্য সঠিক নির্দেশনা পেতে আমাদের ওয়েব...</td>\n",
       "    </tr>\n",
       "    <tr>\n",
       "      <th>30036</th>\n",
       "      <td>ডিভাইস রিস্টার্ট করছে না।</td>\n",
       "      <td>আপনার ডিভাইস রিস্টার্ট করে দেখুন।</td>\n",
       "    </tr>\n",
       "    <tr>\n",
       "      <th>30037</th>\n",
       "      <td>ডিভাইস রিস্টার্ট করছে না।</td>\n",
       "      <td>আমাদের সার্ভিস সেন্টারে যোগাযোগ করুন।</td>\n",
       "    </tr>\n",
       "    <tr>\n",
       "      <th>30038</th>\n",
       "      <td>ডিভাইস রিস্টার্ট করছে না।</td>\n",
       "      <td>ডিভাইসের জন্য সঠিক নির্দেশনা পেতে আমাদের ওয়েব...</td>\n",
       "    </tr>\n",
       "  </tbody>\n",
       "</table>\n",
       "<p>30039 rows × 2 columns</p>\n",
       "</div>"
      ],
      "text/plain": [
       "                                                question  \\\n",
       "0      আমার নাম্বার বন্ধ হয়ে গেছে, আমি কিভাবে পুনরুদ...   \n",
       "1                  আমার সিম রেজিস্ট্রেশন চেক কিভাবে করব?   \n",
       "2             কিভাবে আমি আমার নাম্বারের কল হিস্ট্রি পাব?   \n",
       "3                            সিম পরিবর্তন করার নিয়ম কি?   \n",
       "4                           কিভাবে নতুন সিম নিবন্ধন করব?   \n",
       "...                                                  ...   \n",
       "30034                    কিভাবে ফার্মওয়্যার আপডেট করবো?   \n",
       "30035                    কিভাবে ফার্মওয়্যার আপডেট করবো?   \n",
       "30036                          ডিভাইস রিস্টার্ট করছে না।   \n",
       "30037                          ডিভাইস রিস্টার্ট করছে না।   \n",
       "30038                          ডিভাইস রিস্টার্ট করছে না।   \n",
       "\n",
       "                                                  answer  \n",
       "0      আপনার নাম্বার পুনরুদ্ধারের জন্য নিকটস্থ কাস্টম...  \n",
       "1          সিম রেজিস্ট্রেশন চেক করতে *1600# ডায়াল করুন।  \n",
       "2      আপনার কল হিস্ট্রি পেতে আমাদের অ্যাপ ব্যবহার কর...  \n",
       "3      সিম পরিবর্তন করতে নিকটস্থ সেবাকেন্দ্রে যান এবং...  \n",
       "4      নতুন সিম নিবন্ধন করতে আপনার জাতীয় পরিচয়পত্র ...  \n",
       "...                                                  ...  \n",
       "30034              আমাদের সার্ভিস সেন্টারে যোগাযোগ করুন।  \n",
       "30035  ডিভাইসের জন্য সঠিক নির্দেশনা পেতে আমাদের ওয়েব...  \n",
       "30036                  আপনার ডিভাইস রিস্টার্ট করে দেখুন।  \n",
       "30037              আমাদের সার্ভিস সেন্টারে যোগাযোগ করুন।  \n",
       "30038  ডিভাইসের জন্য সঠিক নির্দেশনা পেতে আমাদের ওয়েব...  \n",
       "\n",
       "[30039 rows x 2 columns]"
      ]
     },
     "execution_count": 5,
     "metadata": {},
     "output_type": "execute_result"
    }
   ],
   "source": [
    "merged_data"
   ]
  },
  {
   "cell_type": "code",
   "execution_count": 6,
   "id": "77256619-4fbe-4166-aba6-b4dfac3059f3",
   "metadata": {},
   "outputs": [
    {
     "name": "stderr",
     "output_type": "stream",
     "text": [
      "Some weights of ElectraForQuestionAnswering were not initialized from the model checkpoint at csebuetnlp/banglabert and are newly initialized: ['qa_outputs.bias', 'qa_outputs.weight']\n",
      "You should probably TRAIN this model on a down-stream task to be able to use it for predictions and inference.\n"
     ]
    }
   ],
   "source": [
    "from transformers import AutoTokenizer, AutoModelForQuestionAnswering, Trainer, TrainingArguments\n",
    "\n",
    "model_name = \"csebuetnlp/banglabert\"\n",
    "tokenizer = AutoTokenizer.from_pretrained(model_name)\n",
    "model =  AutoModelForQuestionAnswering.from_pretrained(model_name)"
   ]
  },
  {
   "cell_type": "code",
   "execution_count": 7,
   "id": "d1499913-8a1c-4d7c-931a-1e89b33d87af",
   "metadata": {},
   "outputs": [
    {
     "data": {
      "application/vnd.jupyter.widget-view+json": {
       "model_id": "ec9112cc8d7249988a28103aa04afe54",
       "version_major": 2,
       "version_minor": 0
      },
      "text/plain": [
       "Generating train split: 0 examples [00:00, ? examples/s]"
      ]
     },
     "metadata": {},
     "output_type": "display_data"
    }
   ],
   "source": [
    "from datasets import load_dataset\n",
    "\n",
    "# Load the dataset\n",
    "dataset = load_dataset(\"csv\", data_files=\"Merged_Bangla_Chatbot_Data.csv\")\n",
    "dataset = dataset[\"train\"].train_test_split(test_size=0.2)\n",
    "\n",
    "# Tokenize the dataset and create start and end positions for the answers\n",
    "def preprocess_function(examples):\n",
    "    questions = examples[\"question\"]\n",
    "    answers = examples[\"answer\"]\n",
    "    \n",
    "    # Tokenize the question\n",
    "    inputs = tokenizer(questions, max_length=256, truncation=True, padding=\"max_length\")\n",
    "    \n",
    "    # Tokenize the answers and calculate start and end positions\n",
    "    targets = tokenizer(answers, max_length=256, truncation=True, padding=\"max_length\")\n",
    "    \n",
    "    # Start and end positions of the answer within the question\n",
    "    start_positions = []\n",
    "    end_positions = []\n",
    "    \n",
    "    for i, answer in enumerate(answers):\n",
    "        start_idx = questions[i].find(answer)  # Find the start index of the answer\n",
    "        end_idx = start_idx + len(answer) - 1  # End index is the start index + length of the answer\n",
    "        \n",
    "        # Handle cases where the answer is not found or is too long\n",
    "        if start_idx == -1 or end_idx >= 256:  # Handle invalid positions\n",
    "            start_positions.append(0)\n",
    "            end_positions.append(0)\n",
    "        else:\n",
    "            start_positions.append(start_idx)\n",
    "            end_positions.append(end_idx)\n",
    "    \n",
    "    # Add the start and end positions to the input features\n",
    "    inputs[\"start_positions\"] = start_positions\n",
    "    inputs[\"end_positions\"] = end_positions\n",
    "    \n",
    "    return inputs"
   ]
  },
  {
   "cell_type": "code",
   "execution_count": 9,
   "id": "7a5c687c-810c-45ba-9100-e94f20759bab",
   "metadata": {},
   "outputs": [
    {
     "data": {
      "application/vnd.jupyter.widget-view+json": {
       "model_id": "4ed0d91ccaf44a5491aab8271fbeb073",
       "version_major": 2,
       "version_minor": 0
      },
      "text/plain": [
       "Map:   0%|          | 0/24031 [00:00<?, ? examples/s]"
      ]
     },
     "metadata": {},
     "output_type": "display_data"
    },
    {
     "data": {
      "application/vnd.jupyter.widget-view+json": {
       "model_id": "ded0d0bf05e24ddda9bf574286b22957",
       "version_major": 2,
       "version_minor": 0
      },
      "text/plain": [
       "Map:   0%|          | 0/6008 [00:00<?, ? examples/s]"
      ]
     },
     "metadata": {},
     "output_type": "display_data"
    },
    {
     "data": {
      "text/html": [
       "\n",
       "    <div>\n",
       "      \n",
       "      <progress value='9012' max='9012' style='width:300px; height:20px; vertical-align: middle;'></progress>\n",
       "      [9012/9012 1:03:52, Epoch 3/3]\n",
       "    </div>\n",
       "    <table border=\"1\" class=\"dataframe\">\n",
       "  <thead>\n",
       " <tr style=\"text-align: left;\">\n",
       "      <th>Epoch</th>\n",
       "      <th>Training Loss</th>\n",
       "      <th>Validation Loss</th>\n",
       "    </tr>\n",
       "  </thead>\n",
       "  <tbody>\n",
       "    <tr>\n",
       "      <td>1</td>\n",
       "      <td>0.696800</td>\n",
       "      <td>0.694011</td>\n",
       "    </tr>\n",
       "    <tr>\n",
       "      <td>2</td>\n",
       "      <td>0.235200</td>\n",
       "      <td>0.000768</td>\n",
       "    </tr>\n",
       "    <tr>\n",
       "      <td>3</td>\n",
       "      <td>0.000800</td>\n",
       "      <td>0.000410</td>\n",
       "    </tr>\n",
       "  </tbody>\n",
       "</table><p>"
      ],
      "text/plain": [
       "<IPython.core.display.HTML object>"
      ]
     },
     "metadata": {},
     "output_type": "display_data"
    },
    {
     "data": {
      "text/plain": [
       "('./bengali_chatbot_model/tokenizer_config.json',\n",
       " './bengali_chatbot_model/special_tokens_map.json',\n",
       " './bengali_chatbot_model/vocab.txt',\n",
       " './bengali_chatbot_model/added_tokens.json',\n",
       " './bengali_chatbot_model/tokenizer.json')"
      ]
     },
     "execution_count": 9,
     "metadata": {},
     "output_type": "execute_result"
    }
   ],
   "source": [
    "# Tokenize the dataset\n",
    "tokenized_dataset = dataset.map(preprocess_function, batched=True)\n",
    "\n",
    "# Define training arguments\n",
    "training_args = TrainingArguments(\n",
    "    output_dir=\"./results\",\n",
    "    evaluation_strategy=\"epoch\",\n",
    "    learning_rate=2e-5,\n",
    "    per_device_train_batch_size=8,\n",
    "    num_train_epochs=3,\n",
    "    weight_decay=0.01,\n",
    "    save_total_limit=2,\n",
    ")\n",
    "\n",
    "# Fine-tune the model using the Trainer API\n",
    "trainer = Trainer(\n",
    "    model=model,\n",
    "    args=training_args,\n",
    "    train_dataset=tokenized_dataset[\"train\"],\n",
    "    eval_dataset=tokenized_dataset[\"test\"],\n",
    ")\n",
    "\n",
    "# Start training\n",
    "trainer.train()\n",
    "\n",
    "# Save the fine-tuned model and tokenizer\n",
    "model.save_pretrained(\"./bengali_chatbot_model\")\n",
    "tokenizer.save_pretrained(\"./bengali_chatbot_model\")"
   ]
  },
  {
   "cell_type": "code",
   "execution_count": 28,
   "id": "2c60faa4-b46d-4ba5-83b7-9fa0126a8256",
   "metadata": {},
   "outputs": [
    {
     "data": {
      "application/vnd.jupyter.widget-view+json": {
       "model_id": "e6780077cd7f459cb0e7a2448a55c95f",
       "version_major": 2,
       "version_minor": 0
      },
      "text/plain": [
       "modules.json:   0%|          | 0.00/229 [00:00<?, ?B/s]"
      ]
     },
     "metadata": {},
     "output_type": "display_data"
    },
    {
     "data": {
      "application/vnd.jupyter.widget-view+json": {
       "model_id": "bd1875a47db449199a865a360d372846",
       "version_major": 2,
       "version_minor": 0
      },
      "text/plain": [
       "config_sentence_transformers.json:   0%|          | 0.00/122 [00:00<?, ?B/s]"
      ]
     },
     "metadata": {},
     "output_type": "display_data"
    },
    {
     "data": {
      "application/vnd.jupyter.widget-view+json": {
       "model_id": "27137a90202e4091bf94d89bfbafb07c",
       "version_major": 2,
       "version_minor": 0
      },
      "text/plain": [
       "README.md:   0%|          | 0.00/4.12k [00:00<?, ?B/s]"
      ]
     },
     "metadata": {},
     "output_type": "display_data"
    },
    {
     "data": {
      "application/vnd.jupyter.widget-view+json": {
       "model_id": "9f617e1cbda8431a9a9d1fc833a4808b",
       "version_major": 2,
       "version_minor": 0
      },
      "text/plain": [
       "sentence_bert_config.json:   0%|          | 0.00/53.0 [00:00<?, ?B/s]"
      ]
     },
     "metadata": {},
     "output_type": "display_data"
    },
    {
     "data": {
      "application/vnd.jupyter.widget-view+json": {
       "model_id": "f9ec1f9d6f3a43f0b8d7b197e3f331ba",
       "version_major": 2,
       "version_minor": 0
      },
      "text/plain": [
       "config.json:   0%|          | 0.00/645 [00:00<?, ?B/s]"
      ]
     },
     "metadata": {},
     "output_type": "display_data"
    },
    {
     "data": {
      "application/vnd.jupyter.widget-view+json": {
       "model_id": "f724b547cc0e43978f5a6db7aebe3d55",
       "version_major": 2,
       "version_minor": 0
      },
      "text/plain": [
       "model.safetensors:   0%|          | 0.00/471M [00:00<?, ?B/s]"
      ]
     },
     "metadata": {},
     "output_type": "display_data"
    },
    {
     "data": {
      "application/vnd.jupyter.widget-view+json": {
       "model_id": "f8a2e823ecd64c1ca4d4be966e6bed17",
       "version_major": 2,
       "version_minor": 0
      },
      "text/plain": [
       "tokenizer_config.json:   0%|          | 0.00/480 [00:00<?, ?B/s]"
      ]
     },
     "metadata": {},
     "output_type": "display_data"
    },
    {
     "data": {
      "application/vnd.jupyter.widget-view+json": {
       "model_id": "e3096df18491491896bc3ddd3ee64f5e",
       "version_major": 2,
       "version_minor": 0
      },
      "text/plain": [
       "tokenizer.json:   0%|          | 0.00/9.08M [00:00<?, ?B/s]"
      ]
     },
     "metadata": {},
     "output_type": "display_data"
    },
    {
     "data": {
      "application/vnd.jupyter.widget-view+json": {
       "model_id": "31029e627f9a48d7935509823ffede56",
       "version_major": 2,
       "version_minor": 0
      },
      "text/plain": [
       "special_tokens_map.json:   0%|          | 0.00/239 [00:00<?, ?B/s]"
      ]
     },
     "metadata": {},
     "output_type": "display_data"
    },
    {
     "data": {
      "application/vnd.jupyter.widget-view+json": {
       "model_id": "8087038a80034f70a74b7aef565c8bd5",
       "version_major": 2,
       "version_minor": 0
      },
      "text/plain": [
       "1_Pooling/config.json:   0%|          | 0.00/190 [00:00<?, ?B/s]"
      ]
     },
     "metadata": {},
     "output_type": "display_data"
    },
    {
     "name": "stdout",
     "output_type": "stream",
     "text": [
      "FAISS index created and saved locally!\n"
     ]
    }
   ],
   "source": [
    "from langchain.vectorstores import FAISS\n",
    "import pandas as pd\n",
    "\n",
    "# Load the dataset\n",
    "data = pd.read_csv(\"Merged_Bangla_Chatbot_Data.csv\")\n",
    "\n",
    "# Use CustomEmbeddings or a sentence-transformer model\n",
    "embedding_model = \"sentence-transformers/paraphrase-multilingual-MiniLM-L12-v2\"\n",
    "embeddings = HuggingFaceEmbeddings(model_name=embedding_model)\n",
    "\n",
    "# Create FAISS vector store\n",
    "faiss_index = FAISS.from_texts(data[\"question\"].tolist(), embeddings)\n",
    "faiss_index.save_local(\"bengali_faiss_index\")\n",
    "\n",
    "print(\"FAISS index created and saved locally!\")\n"
   ]
  },
  {
   "cell_type": "code",
   "execution_count": 30,
   "id": "b556804c-1358-4549-b2a5-c88966cb2e6f",
   "metadata": {},
   "outputs": [
    {
     "name": "stdout",
     "output_type": "stream",
     "text": [
      "FAISS index loaded successfully!\n"
     ]
    }
   ],
   "source": [
    "from langchain.vectorstores import FAISS\n",
    "\n",
    "# Load the FAISS index with explicit deserialization permission\n",
    "retriever = FAISS.load_local(\n",
    "    \"bengali_faiss_index\", \n",
    "    embeddings, \n",
    "    allow_dangerous_deserialization=True\n",
    ").as_retriever()\n",
    "\n",
    "print(\"FAISS index loaded successfully!\")\n"
   ]
  },
  {
   "cell_type": "code",
   "execution_count": 31,
   "id": "5c8ba823-9b9e-4249-b02c-b94928cd1569",
   "metadata": {},
   "outputs": [
    {
     "name": "stderr",
     "output_type": "stream",
     "text": [
      "Device set to use mps:0\n"
     ]
    }
   ],
   "source": [
    "from transformers import pipeline\n",
    "\n",
    "# Load the fine-tuned model\n",
    "model_name = \"./bengali_chatbot_model\"\n",
    "qa_pipeline = pipeline(\"question-answering\", model=model_name, tokenizer=model_name)\n",
    "\n",
    "# Define a function to handle query + context\n",
    "def generate_response(query):\n",
    "    # Retrieve relevant context\n",
    "    retrieved_docs = retriever.get_relevant_documents(query)\n",
    "    context = \"\\n\".join([doc.page_content for doc in retrieved_docs])\n",
    "\n",
    "    # Generate an answer using the fine-tuned model\n",
    "    result = qa_pipeline(question=query, context=context)\n",
    "    return result[\"answer\"]\n"
   ]
  },
  {
   "cell_type": "code",
   "execution_count": 33,
   "id": "61fc7e02-0cfc-425d-be7b-8952885b9cfa",
   "metadata": {},
   "outputs": [
    {
     "name": "stdout",
     "output_type": "stream",
     "text": [
      "Chatbot is ready! Type 'exit' to end the session.\n"
     ]
    },
    {
     "name": "stdin",
     "output_type": "stream",
     "text": [
      "You:  কিভাবে ব্যালেন্স চেক করব?\n"
     ]
    },
    {
     "name": "stdout",
     "output_type": "stream",
     "text": [
      "Chatbot: অফার\n"
     ]
    },
    {
     "name": "stdin",
     "output_type": "stream",
     "text": [
      "You:  ইন্টারনেট অফার কি আছে?\n"
     ]
    },
    {
     "name": "stdout",
     "output_type": "stream",
     "text": [
      "Chatbot: ?\n"
     ]
    },
    {
     "name": "stdin",
     "output_type": "stream",
     "text": [
      "You:  কিভাবে ব্যালেন্স চেক করব?\n"
     ]
    },
    {
     "name": "stdout",
     "output_type": "stream",
     "text": [
      "Chatbot: অফার\n"
     ]
    },
    {
     "name": "stdin",
     "output_type": "stream",
     "text": [
      "You:  ইন্টারনেট ডেটা কেন দ্রুত শেষ হয়ে যাচ্ছে?\n"
     ]
    },
    {
     "name": "stdout",
     "output_type": "stream",
     "text": [
      "Chatbot: ইন্টারনেট\n"
     ]
    },
    {
     "name": "stdin",
     "output_type": "stream",
     "text": [
      "You:  exit\n"
     ]
    },
    {
     "name": "stdout",
     "output_type": "stream",
     "text": [
      "Chatbot: Goodbye!\n"
     ]
    }
   ],
   "source": [
    "print(\"Chatbot is ready! Type 'exit' to end the session.\")\n",
    "\n",
    "while True:\n",
    "    user_query = input(\"You: \")\n",
    "    if user_query.lower() == \"exit\":\n",
    "        print(\"Chatbot: Goodbye!\")\n",
    "        break\n",
    "    \n",
    "    # Generate and display the response\n",
    "    response = generate_response(user_query)\n",
    "    print(f\"Chatbot: {response}\")\n"
   ]
  },
  {
   "cell_type": "code",
   "execution_count": null,
   "id": "5241fd49-5cf0-4e72-9d17-2bed5e505349",
   "metadata": {},
   "outputs": [],
   "source": []
  },
  {
   "cell_type": "code",
   "execution_count": 37,
   "id": "a79f4362-2ae9-4e21-b37a-2a5b69f71744",
   "metadata": {},
   "outputs": [
    {
     "name": "stderr",
     "output_type": "stream",
     "text": [
      "Device set to use mps:0\n"
     ]
    },
    {
     "name": "stdout",
     "output_type": "stream",
     "text": [
      "Bengali Telecom Chatbot (Type 'exit' to end the session)\n",
      "---------------------------------------------------------\n"
     ]
    },
    {
     "name": "stdin",
     "output_type": "stream",
     "text": [
      "You:  বিল পেমেন্টের শেষ তারিখ কিভাবে জানব?\n"
     ]
    },
    {
     "name": "stdout",
     "output_type": "stream",
     "text": [
      "Chatbot: বিল\n"
     ]
    },
    {
     "name": "stdin",
     "output_type": "stream",
     "text": [
      "You:  exit\n"
     ]
    },
    {
     "name": "stdout",
     "output_type": "stream",
     "text": [
      "Chatbot: Goodbye!\n"
     ]
    }
   ],
   "source": [
    "#without RAG\n",
    "\n",
    "from transformers import AutoTokenizer, AutoModelForQuestionAnswering, pipeline\n",
    "\n",
    "# Load the fine-tuned model and tokenizer\n",
    "model_name = \"./bengali_chatbot_model\"  # Path to your fine-tuned model\n",
    "tokenizer = AutoTokenizer.from_pretrained(model_name)\n",
    "model = AutoModelForQuestionAnswering.from_pretrained(model_name)\n",
    "\n",
    "# Initialize the question-answering pipeline\n",
    "qa_pipeline = pipeline(\"question-answering\", model=model, tokenizer=tokenizer)\n",
    "\n",
    "# Interactive loop for the chatbot\n",
    "def chatbot():\n",
    "    print(\"Bengali Telecom Chatbot (Type 'exit' to end the session)\")\n",
    "    print(\"---------------------------------------------------------\")\n",
    "    while True:\n",
    "        # Take user input\n",
    "        user_query = input(\"You: \")\n",
    "        if user_query.lower() == \"exit\":\n",
    "            print(\"Chatbot: Goodbye!\")\n",
    "            break\n",
    "        \n",
    "        # Generate a response using the fine-tuned model\n",
    "        try:\n",
    "            response = qa_pipeline(question=user_query, context=user_query)\n",
    "            print(f\"Chatbot: {response['answer']}\")\n",
    "        except Exception as e:\n",
    "            print(f\"Chatbot: Sorry, I couldn't process that. {e}\")\n",
    "\n",
    "# Start the chatbot\n",
    "chatbot()\n"
   ]
  },
  {
   "cell_type": "code",
   "execution_count": null,
   "id": "3003578c-81c7-4b45-b9d4-aadb107567ff",
   "metadata": {},
   "outputs": [],
   "source": []
  },
  {
   "cell_type": "code",
   "execution_count": null,
   "id": "5c7d3c32-09ad-4c75-9749-7e2c12ddf63e",
   "metadata": {},
   "outputs": [],
   "source": []
  }
 ],
 "metadata": {
  "kernelspec": {
   "display_name": "Python 3 (ipykernel)",
   "language": "python",
   "name": "python3"
  },
  "language_info": {
   "codemirror_mode": {
    "name": "ipython",
    "version": 3
   },
   "file_extension": ".py",
   "mimetype": "text/x-python",
   "name": "python",
   "nbconvert_exporter": "python",
   "pygments_lexer": "ipython3",
   "version": "3.10.12"
  }
 },
 "nbformat": 4,
 "nbformat_minor": 5
}
